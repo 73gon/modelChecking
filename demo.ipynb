{
 "cells": [
  {
   "cell_type": "markdown",
   "id": "735c815e",
   "metadata": {},
   "source": [
    "pip install python>= 3.10  \n",
    "pip install pysmt==0.9.6  \n",
    "pysmt-install --z3  \n",
    "pysmt-install --msat  "
   ]
  },
  {
   "cell_type": "markdown",
   "id": "7f7fabb5",
   "metadata": {},
   "source": [
    "/bin/moxichecker <pfad/zur/moxi-datei.json>"
   ]
  }
 ],
 "metadata": {
  "kernelspec": {
   "display_name": "Python 3",
   "language": "python",
   "name": "python3"
  },
  "language_info": {
   "codemirror_mode": {
    "name": "ipython",
    "version": 3
   },
   "file_extension": ".py",
   "mimetype": "text/x-python",
   "name": "python",
   "nbconvert_exporter": "python",
   "pygments_lexer": "ipython3",
   "version": "3.13.2"
  }
 },
 "nbformat": 4,
 "nbformat_minor": 5
}
